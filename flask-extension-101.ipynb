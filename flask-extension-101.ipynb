{
 "cells": [
  {
   "cell_type": "markdown",
   "id": "fcf36a40",
   "metadata": {
    "slideshow": {
     "slide_type": "slide"
    }
   },
   "source": [
    "# Flask Extension 101"
   ]
  },
  {
   "cell_type": "markdown",
   "id": "32f32fec",
   "metadata": {
    "slideshow": {
     "slide_type": "slide"
    }
   },
   "source": [
    "# Apresentação\n",
    "\n",
    "<img height=\"auto\" width=\"200\" style=\"border-radius:50%\" src=\"foto-em-familia.jpg\" alt=\"Fotografia batida em formato de selfie.\n",
    "Descrição da foto da esquerda para direita: eu, Geraldo Castro, homem branco de barba escura curta e cabelos escuros amarrado pra trás. Na foto estou usando um casaco preto e óculos e estou sorrindo; no meio está nosso cachorro Xicó. Ele é tamanho médio e o pelo dele é longo, de cor caramelo. Ele está usando uma roupinha de croche vermelha e está sentado em uma cadeira de escritório preta, olhando para a camera na hora da foto; e na ponta esquerda está minha namorada, Luanda Dantas, mulher branca de cabelos cacheados presos em formato de coque e usando fones de ouvido preto. Ela está usando óculos e casaco escuro e está sorrindo para a foto.\">\n",
    "\n",
    "- Geraldo (que não é Geraldo) Castro\n",
    "- Pessoa Desenvolvedora de Software @ ThoughtWorks\n",
    "- Mossoró/RN\n",
    "- Grupy-RN\n",
    "- Vegetariano & Diabético"
   ]
  },
  {
   "cell_type": "markdown",
   "id": "7d85d8c4",
   "metadata": {
    "slideshow": {
     "slide_type": "slide"
    }
   },
   "source": [
    "# Considerações iniciais"
   ]
  },
  {
   "cell_type": "markdown",
   "id": "06b58ac9",
   "metadata": {
    "slideshow": {
     "slide_type": "subslide"
    }
   },
   "source": [
    "## Ponto de partida\n",
    "\n",
    "Para melhor compreender esse conteudo, eu recomendo que você possua:\n",
    "\n",
    "- Entendimento de código Python (recomendo o curso [Python para Zumbis](https://www.youtube.com/playlist?list=PLUukMN0DTKCtbzhbYe2jdF4cr8MOWClXc), um curso básico de programação em python)\n",
    "- Conhecimento/experiencia mínima no framework (recomendo o tutorial do Miguel Grinberg, [Flask Mega Tutorial](https://blog.miguelgrinberg.com/post/the-flask-mega-tutorial-part-i-hello-world). UPDATE: [Flask 2.0 e mais](https://blog.miguelgrinberg.com/post/flask-mega-tutorial-update-flask-2-0-and-more); em inglês)."
   ]
  },
  {
   "cell_type": "markdown",
   "id": "f75d4a69",
   "metadata": {
    "slideshow": {
     "slide_type": "subslide"
    }
   },
   "source": [
    "## Sobre o que vamos conversar\n",
    "\n",
    "- [Entendendo Extensões](#Entendendo-extensões)\n",
    "    - [O que é uma extensão](#O-que-é-uma-extensão)\n",
    "    - [O que não é uma extensão](#O-que-não-é-uma-extensão)\n",
    "    - [Como encontrar](#Como-encontrar)\n",
    "    - [Exemplos](#Exemplos-de-extensões)\n",
    "    - [Usando uma extensão](#Usando-uma-extensão)\n",
    "    - [Sobre criar uma extensão](#Sobre-criar-uma-extens%C3%A3o)\n",
    "- [Construindo nossa própria extensão](#Construindo-nossa-própria-extensão)\n",
    "    - [Anatomia de uma extensão](#Anatomia-de-uma-extensão)\n",
    "    - [Estrutura do projet](#Estrutura-do-projeto)\n",
    "    - [Copiango e colando as configurações](#Copiando-e-colando-as-configurações)\n",
    "    - [Hello, FlaskExt](#Hello,-FlaskExt)\n",
    "    - [FlaskExt](#FlaskExt)"
   ]
  },
  {
   "cell_type": "markdown",
   "id": "daf6c8ee",
   "metadata": {
    "slideshow": {
     "slide_type": "subslide"
    }
   },
   "source": [
    "## Configurações\n",
    "\n",
    "O único pacote necessário para esse tutorial é o próprio Flask.\n",
    "\n",
    "Mas atenção: sugiro instalar uma versão anterior a 2.0.\n",
    "\n",
    "```python\n",
    "pip install flask==1.1.2\n",
    "```"
   ]
  },
  {
   "cell_type": "markdown",
   "id": "b2d8a2f6",
   "metadata": {
    "slideshow": {
     "slide_type": "subslide"
    }
   },
   "source": [
    "## TL;DR\n",
    "\n",
    "- Entender o que é e como funciona uma Extensão do Flask\n",
    "- Conseguir dar seus primeiros passos no desenvolvimento de suas próprias extensões\n",
    "\n",
    "```python\n",
    "from flask import Flask\n",
    "\n",
    "app = Flask(__name__)\n",
    "api = FlaskExt(app)\n",
    "\n",
    "@api.get('/')\n",
    "@api.get('/<user>')\n",
    "def hello_world(user=None):\n",
    "    if not user:\n",
    "        return {'hello': 'world'}\n",
    "    return {'hello': user}\n",
    "```"
   ]
  },
  {
   "cell_type": "markdown",
   "id": "abbcaac2",
   "metadata": {
    "slideshow": {
     "slide_type": "subslide"
    }
   },
   "source": [
    "## Nota sobre o Flask 2\n",
    "\n",
    "- [Notas de lançamento](https://flask.palletsprojects.com/en/2.0.x/changes/#version-2-0-0) (em ingles)\n",
    "- [Pull Request #3907 - Add syntatic sugar for route registration](https://github.com/pallets/flask/pull/3907/files)\n",
    "- Iniciei esse material em 2019!"
   ]
  },
  {
   "cell_type": "markdown",
   "id": "174e2376",
   "metadata": {
    "slideshow": {
     "slide_type": "slide"
    }
   },
   "source": [
    "# Entendendo extensões"
   ]
  },
  {
   "cell_type": "markdown",
   "id": "14719a39",
   "metadata": {
    "slideshow": {
     "slide_type": "subslide"
    }
   },
   "source": [
    "Flask é um micro web-framework construido em cima de tecnologias como:\n",
    "- [Werkzeug](https://werkzeug.palletsprojects.com/en/2.0.x/): é uma biblioteca abrangente/compreensiva de aplicações WSGI.\n",
    "- [Jinja](https://jinja.palletsprojects.com/en/3.0.x/): é uma engine/motor rápida, expressiva e extensível de templates/modelos.\n",
    "- [itsdangerous](https://github.com/pallets/itsdangerous): conjunto de ferramentas que ajudam a passar os dados para ambientes não confiáveis e para recuperá-los sãos e salvos.\n",
    "- [click](https://click.palletsprojects.com/en/8.0.x/): biblioteca para criar interfaces de linha de comando (CLI) de uma forma compreensível e com o mínimo de linhas de código possivel.\n",
    "\n",
    "O fato de ser \"micro\" não limita nos de crescer."
   ]
  },
  {
   "cell_type": "markdown",
   "id": "410898f4",
   "metadata": {
    "slideshow": {
     "slide_type": "subslide"
    }
   },
   "source": [
    "Sendo um microframework, o Flask freqüentemente requer alguns passos repetitivos para que bibliotecas de terceiros funcionem."
   ]
  },
  {
   "cell_type": "markdown",
   "id": "50cf5189",
   "metadata": {
    "slideshow": {
     "slide_type": "subslide"
    }
   },
   "source": [
    "## O que é uma extensão\n",
    "\n",
    "As <u>extensões</u> são pacotes extras que acrescentam funcionalidade a uma aplicação Flask.\n",
    "\n",
    "Por exemplo, uma extensão pode adicionar suporte para envio de e-mail ou conexão a um banco de dados. Algumas extensões adicionam novas estruturas inteiras para ajudar a construir certos tipos de aplicações, como uma API REST.\n",
    "\n",
    "[Flask Doc](https://flask.palletsprojects.com/en/2.0.x/extensions/#extensions) - Tradução livre"
   ]
  },
  {
   "cell_type": "markdown",
   "id": "7ea342a3",
   "metadata": {
    "slideshow": {
     "slide_type": "subslide"
    }
   },
   "source": [
    "O grande ecossistema de extensões do Flask facilita às desenvolvedoras a construção de recursos comuns de aplicações web, tais como autenticação, operações de banco de dados e APIs, mesmo que o suporte não seja nativo do proprio framework.\n",
    "\n",
    "O projeto é por escolha um contraste da abordagem de \"baterias inclusas\" do Django.\n",
    "\n",
    "A decisão de projeto de cada estrutura é uma abordagem viável, dependendo das necessidades e exigências da aplicação que você está construindo.\n",
    "\n",
    "[Flask Extensions, Plug-ins and Related Libraries](https://www.fullstackpython.com/flask-extensions-plug-ins-related-libraries.html) - Tradução Livre"
   ]
  },
  {
   "cell_type": "markdown",
   "id": "08c6af96",
   "metadata": {
    "slideshow": {
     "slide_type": "subslide"
    }
   },
   "source": [
    "## O que não é uma extensão\n",
    "\n",
    "|   | É uma extensão? |\n",
    "|---|---|\n",
    "| [boto3](https://github.com/boto/boto3)  | não |\n",
    "| [alembic](https://github.com/sqlalchemy/alembic)  | não |\n",
    "| [sqlalchemy](https://github.com/sqlalchemy/sqlalchemy)  | não |\n",
    "| [flask-sqlalchemy](https://github.com/pallets/flask-sqlalchemy)  | sim |\n",
    "| [flask-migrate](https://github.com/miguelgrinberg/Flask-Migrate)  | sim |\n"
   ]
  },
  {
   "cell_type": "markdown",
   "id": "a06d9e10",
   "metadata": {
    "slideshow": {
     "slide_type": "subslide"
    }
   },
   "source": [
    "## Como encontrar\n",
    "\n",
    "As extensões são normalmente nomeadas iniciando <strike>ou finalizando</strike> com a palavra \"`Flask`\":\n",
    "- Flask-Extensao\n",
    "- <strike> Extensao-Flask</strike> (não costumo encontrar nesse formato)\n",
    "\n",
    "Você pode procurar no PyPI por pacotes com a tag/etiqueta [`Framework :: Flask`](https://pypi.org/search/?c=Framework+%3A%3A+Flask).\n",
    "\n",
    "[Flask Doc](https://flask.palletsprojects.com/en/2.0.x/extensions/#finding-extensions) - Tradução livre"
   ]
  },
  {
   "cell_type": "markdown",
   "id": "e256c42f",
   "metadata": {
    "slideshow": {
     "slide_type": "subslide"
    }
   },
   "source": [
    "## Exemplos de extensões\n",
    "\n",
    "- [Flask-SQLAlchemy](https://flask-sqlalchemy.palletsprojects.com/en/2.x/): É uma extensão para o Flask que adiciona suporte para SQLAlchemy à sua aplicação.\n",
    "- [Flask-Login](https://flask-login.readthedocs.io/en/latest/): Fornece gerenciamento de sessão de usuário para Flask.\n",
    "- [Flask-Ask](https://github.com/johnwheeler/flask-ask): é uma extensão para a construção das habilidades/skills da Alexa (Amazon) usando um estilo familiar de organização das funções do Flask.\n",
    "- [Flask-Debug-toolbar](https://github.com/flask-debugtoolbar/flask-debugtoolbar): uma barra de ferramentas sobreposta para depuração de aplicações Flask. "
   ]
  },
  {
   "cell_type": "markdown",
   "id": "4d15febe",
   "metadata": {
    "slideshow": {
     "slide_type": "subslide"
    }
   },
   "source": [
    "## Usando uma extensão\n",
    "\n",
    "<b><u>Consulte a documentação de cada extensão para instalação, configuração e instruções de uso.</u></b> Geralmente, as extensões puxam sua própria configuração do `app.config` e são passadas em uma instância de aplicação durante a inicialização. Por exemplo, uma extensão chamada \"Flask-Foo\" pode ser usada desta forma:\n",
    "\n",
    "```python\n",
    "from flask_foo import Foo\n",
    "\n",
    "\n",
    "app = Flask(__name__)\n",
    "app.config.update(\n",
    "    FOO_BAR='baz',\n",
    "    FOO_SPAM='eggs',\n",
    ")\n",
    "Foo(app)\n",
    "```\n",
    "\n",
    "[Flask Doc](https://flask.palletsprojects.com/en/2.0.x/extensions/#using-extensions) - Tradução livre"
   ]
  },
  {
   "cell_type": "markdown",
   "id": "2deec02c",
   "metadata": {
    "slideshow": {
     "slide_type": "subslide"
    }
   },
   "source": [
    "Usando o `application factory`:\n",
    "```python\n",
    "from flask_foo import Foo\n",
    "\n",
    "\n",
    "foo = Foo()\n",
    "\n",
    "def create_app():\n",
    "    app = Flask(__name__)\n",
    "    app.config.update(\n",
    "        FOO_BAR='baz',\n",
    "        FOO_SPAM='eggs',\n",
    "    )\n",
    "    foo.init_app(app)\n",
    "\n",
    "```"
   ]
  },
  {
   "cell_type": "markdown",
   "id": "3ae5a23a",
   "metadata": {
    "slideshow": {
     "slide_type": "subslide"
    }
   },
   "source": [
    "## Sobre criar uma extensão\n",
    "\n",
    "Apesar do [PyPI](https://pypi.org/search/?c=Framework+%3A%3A+Flask) ter muitas extensões do Flask, você pode não encontrar uma que atenda às suas necessidades.\n",
    "\n",
    "Se este for o caso, você pode criar a sua própria extensão.\n",
    "\n",
    "Leia [Desenvolvimento de Extensões para Flask](https://flask.palletsprojects.com/en/2.0.x/extensiondev/) para desenvolver sua própria extensão.\n",
    "\n",
    "[Flask Doc](https://flask.palletsprojects.com/en/2.0.x/extensions/#building-extensions) - Tradução livre"
   ]
  },
  {
   "cell_type": "markdown",
   "id": "f4e8b417",
   "metadata": {
    "slideshow": {
     "slide_type": "slide"
    }
   },
   "source": [
    "# Construindo nossa própria extensão"
   ]
  },
  {
   "cell_type": "markdown",
   "id": "d5551d75",
   "metadata": {
    "slideshow": {
     "slide_type": "subslide"
    }
   },
   "source": [
    "## Anatomia de uma extensão\n",
    "\n",
    "- Nomenclatura: `flask_algomais` / `Flask-AlgoMais`.\n",
    "- Garantir que funcione com várias instâncias de aplicação ao mesmo tempo.\n",
    "- **A extensão deve possuir um arquivo `setup.py` e ser registrada no PyPI.**\n",
    "- Licença: BSD, MIT ou algua mais livre/liberal.\n",
    "\n",
    "[Flask Doc](https://flask.palletsprojects.com/en/2.0.x/extensiondev/#anatomy-of-an-extension) - Tradução livre"
   ]
  },
  {
   "cell_type": "markdown",
   "id": "37539155",
   "metadata": {
    "slideshow": {
     "slide_type": "subslide"
    }
   },
   "source": [
    "## Estrutura do projeto\n",
    "\n",
    "```\n",
    "flask-ext\n",
    "├── README.md\n",
    "├── LICENSE\n",
    "├── flask_ext.py\n",
    "└── setup.py\n",
    "```\n",
    "\n",
    "- `README.md`: considere colocar aqui todas as informações possiveis sobre o projeto.\n",
    "- `LICENSE`: a licença selecionada para o projeto.\n",
    "- `flask_ext.py`: código da nossa extensão.\n",
    "- `setup.py`: contem as informações de instalação e distribuição da extensão."
   ]
  },
  {
   "cell_type": "markdown",
   "id": "96c25e92",
   "metadata": {
    "slideshow": {
     "slide_type": "subslide"
    }
   },
   "source": [
    "## Copiando e colando as configurações\n",
    "\n",
    "Esse arquivo é muito importante para o projeto.\n",
    "É nele onde vamos apontar onde está a extensão que será instalada.\n",
    "\n",
    "```python\n",
    "from setuptools import setup\n",
    "\n",
    "\n",
    "setup(\n",
    "    name='Flask-Ext',\n",
    "    version='1.0',\n",
    "    url='http://example.com/flask-ext/',\n",
    "    license='BSD',\n",
    "    author='Geraldo Castro',\n",
    "    author_email='exageraldo@example.com',\n",
    "    description='Very short description',\n",
    "    long_description=__doc__,\n",
    "    py_modules=['flask_ext'],\n",
    "    zip_safe=False,\n",
    "    include_package_data=True,\n",
    "    platforms='any',\n",
    "    install_requires=[\n",
    "        'Flask==1.1.2'\n",
    "    ],\n",
    "    ...\n",
    "```"
   ]
  },
  {
   "cell_type": "markdown",
   "id": "9fddc407",
   "metadata": {
    "slideshow": {
     "slide_type": "subslide"
    }
   },
   "source": [
    "```python\n",
    "    ...\n",
    "    classifiers=[\n",
    "        'Framework :: Flask',\n",
    "        'Environment :: Web Environment',\n",
    "        'Intended Audience :: Developers',\n",
    "        'License :: OSI Approved :: BSD License',\n",
    "        'Operating System :: OS Independent',\n",
    "        'Programming Language :: Python',\n",
    "        'Topic :: Internet :: WWW/HTTP :: Dynamic Content',\n",
    "        'Topic :: Software Development :: Libraries :: Python Modules'\n",
    "    ]\n",
    ")\n",
    "````"
   ]
  },
  {
   "cell_type": "markdown",
   "id": "cc7ad54a",
   "metadata": {
    "slideshow": {
     "slide_type": "subslide"
    }
   },
   "source": [
    "## Hello, FlaskExt\n",
    "\n",
    "Nosso \"`Hello, World`\" no mundo das extensões:\n",
    "\n",
    "```python\n",
    "class FlaskTestExt(object):\n",
    "    def __init__(self, app=None):\n",
    "        if app is not None:\n",
    "            print('Hello')\n",
    "            self.init_app(app)\n",
    "    \n",
    "    def init_app(self, app):\n",
    "        print('Python Nordeste!')\n",
    "```"
   ]
  },
  {
   "cell_type": "markdown",
   "id": "a3e8c326",
   "metadata": {
    "slideshow": {
     "slide_type": "subslide"
    }
   },
   "source": [
    "Utilizando:\n",
    "\n",
    "\n",
    "```python\n",
    "from flask import Flask\n",
    "\n",
    "app = Flask(__name__)\n",
    "FlaskTestExt(app)\n",
    "\n",
    "# Saida:\n",
    "# Hello\n",
    "# Python Nordeste!\n",
    "```\n",
    "```python\n",
    "from flask import Flask\n",
    "\n",
    "app = Flask(__name__)\n",
    "test_ext = FlaskTestExt()\n",
    "test_ext.init_app(app)\n",
    "\n",
    "# Saida:\n",
    "# Python Nordeste!\n",
    "```"
   ]
  },
  {
   "cell_type": "markdown",
   "id": "37b14153",
   "metadata": {
    "slideshow": {
     "slide_type": "subslide"
    }
   },
   "source": [
    "## FlaskExt\n",
    "\n",
    "A ideia dessa extensão é de criar atalhos para adicionar rotas de forma mais explicita/\"legivel\":\n",
    "\n",
    "```python\n",
    "class FlaskExt(object):\n",
    "    def __init__(self, app=None):\n",
    "        if app is not None:\n",
    "            self.init_app(app)\n",
    "    \n",
    "    def init_app(self, app):\n",
    "        self.app = app\n",
    "\n",
    "    def _method_route(self, method, rule, options):\n",
    "        return self.app.route(rule, methods=[method], **options)\n",
    "    ...\n",
    "```"
   ]
  },
  {
   "cell_type": "markdown",
   "id": "8775f452",
   "metadata": {
    "slideshow": {
     "slide_type": "subslide"
    }
   },
   "source": [
    "```python\n",
    "    ...\n",
    "\n",
    "    def get(self, rule, **options):\n",
    "        '''A decorator to GET resources.'''\n",
    "        return self._method_route(\"GET\", rule, options)\n",
    "\n",
    "    def post(self, rule, **options):\n",
    "        '''A decorator to POST resources.'''\n",
    "        return self._method_route(\"POST\", rule, options)\n",
    "\n",
    "    def put(self, rule, **options):\n",
    "        '''A decorator to PUT resources.'''\n",
    "        return self._method_route(\"PUT\", rule, options)\n",
    "\n",
    "    def delete(self, rule, **options):\n",
    "        '''A decorator to DELETE resources.'''\n",
    "        return self._method_route(\"DELETE\", rule, options)\n",
    "\n",
    "    def patch(self, rule, **options):\n",
    "        '''A decorator to PATCH resources.'''\n",
    "        return self._method_route(\"PATCH\", rule, options)\n",
    "```"
   ]
  },
  {
   "cell_type": "markdown",
   "id": "900c085c",
   "metadata": {
    "slideshow": {
     "slide_type": "subslide"
    }
   },
   "source": [
    "### Atenção!\n",
    "\n",
    "Situações como essa são possiveis de acontecer e o erro acaba não sendo de facil entendimento:\n",
    "\n",
    "```python\n",
    "@api.post('/', methods=['GET'])\n",
    "@api.post('/<user>', methods=['GET'])\n",
    "def hello_world(user=None):\n",
    "    if not user:\n",
    "        return {'hello': 'world'}\n",
    "    return {'hello': user}\n",
    "```\n",
    "\n",
    "Erro:\n",
    "```\n",
    "return self.app.route(rule, methods=[method], **options)\n",
    "TypeError: flask.app.Flask.route() got multiple values for keyword argument 'methods'\n",
    "```"
   ]
  },
  {
   "cell_type": "markdown",
   "id": "3e270057",
   "metadata": {
    "slideshow": {
     "slide_type": "fragment"
    }
   },
   "source": [
    "Podemos ajeitar isso adicionando uma condição no nosso `_method_route`:\n",
    "\n",
    "```python\n",
    "    def _method_route(self, method, rule, options):\n",
    "        if \"methods\" in options:\n",
    "            raise TypeError(\"Use the 'route' decorator to use the 'methods' argument.\")\n",
    "\n",
    "        return self.app.route(rule, methods=[method], **options)\n",
    "```"
   ]
  },
  {
   "cell_type": "markdown",
   "id": "0a33d303",
   "metadata": {
    "slideshow": {
     "slide_type": "slide"
    }
   },
   "source": [
    "## Perguntas?\n",
    "\n",
    "### Obrigado!"
   ]
  }
 ],
 "metadata": {
  "celltoolbar": "Slideshow",
  "kernelspec": {
   "display_name": "Python 3 (ipykernel)",
   "language": "python",
   "name": "python3"
  },
  "language_info": {
   "codemirror_mode": {
    "name": "ipython",
    "version": 3
   },
   "file_extension": ".py",
   "mimetype": "text/x-python",
   "name": "python",
   "nbconvert_exporter": "python",
   "pygments_lexer": "ipython3",
   "version": "3.10.0b3"
  }
 },
 "nbformat": 4,
 "nbformat_minor": 5
}
